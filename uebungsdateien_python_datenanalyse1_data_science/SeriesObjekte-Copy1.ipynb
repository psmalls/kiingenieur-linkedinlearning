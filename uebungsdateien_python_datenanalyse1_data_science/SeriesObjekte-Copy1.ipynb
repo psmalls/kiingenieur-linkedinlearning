{
 "cells": [
  {
   "cell_type": "code",
   "execution_count": 15,
   "id": "8d3bd01f",
   "metadata": {},
   "outputs": [],
   "source": [
    "import numpy as np\n",
    "import pandas as pd\n",
    "from pandas import Series, DataFrame"
   ]
  },
  {
   "cell_type": "code",
   "execution_count": 16,
   "id": "e695f335",
   "metadata": {},
   "outputs": [],
   "source": [
    "# Liste mit dummy-Objekten erzeugen\n",
    "series_obj = Series(np.arange(8), index=['row 1','row 2','row 3','row 4','row 5','row 6','row 7','row 8',])"
   ]
  },
  {
   "cell_type": "code",
   "execution_count": 17,
   "id": "5a0b5840",
   "metadata": {
    "scrolled": true
   },
   "outputs": [
    {
     "data": {
      "text/plain": [
       "row 1    0\n",
       "row 2    1\n",
       "row 3    2\n",
       "row 4    3\n",
       "row 5    4\n",
       "row 6    5\n",
       "row 7    6\n",
       "row 8    7\n",
       "dtype: int32"
      ]
     },
     "execution_count": 17,
     "metadata": {},
     "output_type": "execute_result"
    }
   ],
   "source": [
    "series_obj"
   ]
  },
  {
   "cell_type": "code",
   "execution_count": 19,
   "id": "f106a88a",
   "metadata": {},
   "outputs": [
    {
     "data": {
      "text/plain": [
       "3"
      ]
     },
     "execution_count": 19,
     "metadata": {},
     "output_type": "execute_result"
    }
   ],
   "source": [
    "series_obj['row 4']"
   ]
  },
  {
   "cell_type": "code",
   "execution_count": 21,
   "id": "76f6be9e",
   "metadata": {},
   "outputs": [
    {
     "data": {
      "text/plain": [
       "row 3    2\n",
       "row 6    5\n",
       "dtype: int32"
      ]
     },
     "execution_count": 21,
     "metadata": {},
     "output_type": "execute_result"
    }
   ],
   "source": [
    "# Auf Werte mit Indizes zugreifen\n",
    "series_obj[[2, 5]]"
   ]
  },
  {
   "cell_type": "code",
   "execution_count": null,
   "id": "996131f6",
   "metadata": {},
   "outputs": [],
   "source": []
  }
 ],
 "metadata": {
  "kernelspec": {
   "display_name": "Python 3 (ipykernel)",
   "language": "python",
   "name": "python3"
  },
  "language_info": {
   "codemirror_mode": {
    "name": "ipython",
    "version": 3
   },
   "file_extension": ".py",
   "mimetype": "text/x-python",
   "name": "python",
   "nbconvert_exporter": "python",
   "pygments_lexer": "ipython3",
   "version": "3.9.7"
  }
 },
 "nbformat": 4,
 "nbformat_minor": 5
}
