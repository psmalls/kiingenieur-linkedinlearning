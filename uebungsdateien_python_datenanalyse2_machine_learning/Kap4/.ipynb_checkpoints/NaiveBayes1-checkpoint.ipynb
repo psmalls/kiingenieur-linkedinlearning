{
 "cells": [
  {
   "cell_type": "markdown",
   "metadata": {},
   "source": [
    "Naive Bayes"
   ]
  },
  {
   "cell_type": "code",
   "execution_count": null,
   "metadata": {},
   "outputs": [],
   "source": [
    "import numpy as np\n",
    "import pandas as pd\n",
    "\n",
    "import urllib.request\n",
    "\n",
    "import sklearn\n",
    "from sklearn.naive_bayes import BernoulliNB\n",
    "from sklearn.naive_bayes import GaussianNB\n",
    "from sklearn.naive_bayes import MultinomialNB\n",
    "from sklearn.model_selection import train_test_split\n",
    "from sklearn import metrics\n",
    "from sklearn.metrics import accuracy_score"
   ]
  },
  {
   "cell_type": "markdown",
   "metadata": {},
   "source": [
    "## Naive Bayes\n",
    "### Naive Bayes zum Schutz vor Spam"
   ]
  },
  {
   "cell_type": "code",
   "execution_count": 41,
   "metadata": {},
   "outputs": [
    {
     "name": "stdout",
     "output_type": "stream",
     "text": [
      "[  0.      0.64    0.64    0.      0.32    0.      0.      0.      0.\n",
      "   0.      0.      0.64    0.      0.      0.      0.32    0.      1.29\n",
      "   1.93    0.      0.96    0.      0.      0.      0.      0.      0.\n",
      "   0.      0.      0.      0.      0.      0.      0.      0.      0.\n",
      "   0.      0.      0.      0.      0.      0.      0.      0.      0.\n",
      "   0.      0.      0.      0.      0.      0.      0.778   0.      0.\n",
      "   3.756  61.    278.      1.   ]\n"
     ]
    }
   ],
   "source": [
    "# Datenbasis laden, öffnen und in datenset übergeben\n",
    "url = \"https://archive.ics.uci.edu/ml/machine-learning-databases/spambase/spambase.data\"\n",
    "raw_data = urllib.request.urlopen(url)\n",
    "dataset = np.loadtxt(raw_data, delimiter=\",\")\n",
    "print(dataset[0])\n"
   ]
  },
  {
   "cell_type": "code",
   "execution_count": 42,
   "metadata": {},
   "outputs": [
    {
     "name": "stdout",
     "output_type": "stream",
     "text": [
      "<class 'pandas.core.frame.DataFrame'>\n",
      "RangeIndex: 4601 entries, 0 to 4600\n",
      "Data columns (total 58 columns):\n",
      "0     4601 non-null float64\n",
      "1     4601 non-null float64\n",
      "2     4601 non-null float64\n",
      "3     4601 non-null float64\n",
      "4     4601 non-null float64\n",
      "5     4601 non-null float64\n",
      "6     4601 non-null float64\n",
      "7     4601 non-null float64\n",
      "8     4601 non-null float64\n",
      "9     4601 non-null float64\n",
      "10    4601 non-null float64\n",
      "11    4601 non-null float64\n",
      "12    4601 non-null float64\n",
      "13    4601 non-null float64\n",
      "14    4601 non-null float64\n",
      "15    4601 non-null float64\n",
      "16    4601 non-null float64\n",
      "17    4601 non-null float64\n",
      "18    4601 non-null float64\n",
      "19    4601 non-null float64\n",
      "20    4601 non-null float64\n",
      "21    4601 non-null float64\n",
      "22    4601 non-null float64\n",
      "23    4601 non-null float64\n",
      "24    4601 non-null float64\n",
      "25    4601 non-null float64\n",
      "26    4601 non-null float64\n",
      "27    4601 non-null float64\n",
      "28    4601 non-null float64\n",
      "29    4601 non-null float64\n",
      "30    4601 non-null float64\n",
      "31    4601 non-null float64\n",
      "32    4601 non-null float64\n",
      "33    4601 non-null float64\n",
      "34    4601 non-null float64\n",
      "35    4601 non-null float64\n",
      "36    4601 non-null float64\n",
      "37    4601 non-null float64\n",
      "38    4601 non-null float64\n",
      "39    4601 non-null float64\n",
      "40    4601 non-null float64\n",
      "41    4601 non-null float64\n",
      "42    4601 non-null float64\n",
      "43    4601 non-null float64\n",
      "44    4601 non-null float64\n",
      "45    4601 non-null float64\n",
      "46    4601 non-null float64\n",
      "47    4601 non-null float64\n",
      "48    4601 non-null float64\n",
      "49    4601 non-null float64\n",
      "50    4601 non-null float64\n",
      "51    4601 non-null float64\n",
      "52    4601 non-null float64\n",
      "53    4601 non-null float64\n",
      "54    4601 non-null float64\n",
      "55    4601 non-null float64\n",
      "56    4601 non-null float64\n",
      "57    4601 non-null float64\n",
      "dtypes: float64(58)\n",
      "memory usage: 2.0 MB\n"
     ]
    }
   ],
   "source": [
    "df = pd.DataFrame(dataset)\n",
    "df.info()"
   ]
  },
  {
   "cell_type": "code",
   "execution_count": 2,
   "metadata": {},
   "outputs": [
    {
     "ename": "NameError",
     "evalue": "name 'dataset' is not defined",
     "output_type": "error",
     "traceback": [
      "\u001b[1;31m---------------------------------------------------------------------------\u001b[0m",
      "\u001b[1;31mNameError\u001b[0m                                 Traceback (most recent call last)",
      "Cell \u001b[1;32mIn[2], line 1\u001b[0m\n\u001b[1;32m----> 1\u001b[0m X \u001b[38;5;241m=\u001b[39m \u001b[43mdataset\u001b[49m[:,\u001b[38;5;241m0\u001b[39m:\u001b[38;5;241m48\u001b[39m]\n\u001b[0;32m      3\u001b[0m y \u001b[38;5;241m=\u001b[39m dataset[:, \u001b[38;5;241m-\u001b[39m\u001b[38;5;241m1\u001b[39m]\n\u001b[0;32m      5\u001b[0m dfX \u001b[38;5;241m=\u001b[39m pd\u001b[38;5;241m.\u001b[39mDataFrame(X)\n",
      "\u001b[1;31mNameError\u001b[0m: name 'dataset' is not defined"
     ]
    }
   ],
   "source": [
    "X = dataset[:,0:48]\n",
    "\n",
    "y = dataset[:, -1]\n",
    "\n",
    "dfX = pd.DataFrame(X)\n",
    "dfX.info()\n",
    "dfy = pd.DataFrame(y)\n",
    "dfy.info()"
   ]
  },
  {
   "cell_type": "code",
   "execution_count": 44,
   "metadata": {},
   "outputs": [],
   "source": [
    "# Aufteilung der Test- und Trainingsdaten\n",
    "X_train, X_test, y_train, y_test = train_test_split(X, y, test_size=.33, random_state=17)"
   ]
  },
  {
   "cell_type": "code",
   "execution_count": 45,
   "metadata": {},
   "outputs": [
    {
     "name": "stdout",
     "output_type": "stream",
     "text": [
      "<class 'pandas.core.frame.DataFrame'>\n",
      "RangeIndex: 3082 entries, 0 to 3081\n",
      "Data columns (total 48 columns):\n",
      "0     3082 non-null float64\n",
      "1     3082 non-null float64\n",
      "2     3082 non-null float64\n",
      "3     3082 non-null float64\n",
      "4     3082 non-null float64\n",
      "5     3082 non-null float64\n",
      "6     3082 non-null float64\n",
      "7     3082 non-null float64\n",
      "8     3082 non-null float64\n",
      "9     3082 non-null float64\n",
      "10    3082 non-null float64\n",
      "11    3082 non-null float64\n",
      "12    3082 non-null float64\n",
      "13    3082 non-null float64\n",
      "14    3082 non-null float64\n",
      "15    3082 non-null float64\n",
      "16    3082 non-null float64\n",
      "17    3082 non-null float64\n",
      "18    3082 non-null float64\n",
      "19    3082 non-null float64\n",
      "20    3082 non-null float64\n",
      "21    3082 non-null float64\n",
      "22    3082 non-null float64\n",
      "23    3082 non-null float64\n",
      "24    3082 non-null float64\n",
      "25    3082 non-null float64\n",
      "26    3082 non-null float64\n",
      "27    3082 non-null float64\n",
      "28    3082 non-null float64\n",
      "29    3082 non-null float64\n",
      "30    3082 non-null float64\n",
      "31    3082 non-null float64\n",
      "32    3082 non-null float64\n",
      "33    3082 non-null float64\n",
      "34    3082 non-null float64\n",
      "35    3082 non-null float64\n",
      "36    3082 non-null float64\n",
      "37    3082 non-null float64\n",
      "38    3082 non-null float64\n",
      "39    3082 non-null float64\n",
      "40    3082 non-null float64\n",
      "41    3082 non-null float64\n",
      "42    3082 non-null float64\n",
      "43    3082 non-null float64\n",
      "44    3082 non-null float64\n",
      "45    3082 non-null float64\n",
      "46    3082 non-null float64\n",
      "47    3082 non-null float64\n",
      "dtypes: float64(48)\n",
      "memory usage: 1.1 MB\n"
     ]
    }
   ],
   "source": [
    "# Info über Aufteilung mit pandas\n",
    "dfX_train = pd.DataFrame(X_train)\n",
    "dfX_train.info()\n"
   ]
  },
  {
   "cell_type": "code",
   "execution_count": 46,
   "metadata": {},
   "outputs": [
    {
     "name": "stdout",
     "output_type": "stream",
     "text": [
      "<class 'pandas.core.frame.DataFrame'>\n",
      "RangeIndex: 1519 entries, 0 to 1518\n",
      "Data columns (total 48 columns):\n",
      "0     1519 non-null float64\n",
      "1     1519 non-null float64\n",
      "2     1519 non-null float64\n",
      "3     1519 non-null float64\n",
      "4     1519 non-null float64\n",
      "5     1519 non-null float64\n",
      "6     1519 non-null float64\n",
      "7     1519 non-null float64\n",
      "8     1519 non-null float64\n",
      "9     1519 non-null float64\n",
      "10    1519 non-null float64\n",
      "11    1519 non-null float64\n",
      "12    1519 non-null float64\n",
      "13    1519 non-null float64\n",
      "14    1519 non-null float64\n",
      "15    1519 non-null float64\n",
      "16    1519 non-null float64\n",
      "17    1519 non-null float64\n",
      "18    1519 non-null float64\n",
      "19    1519 non-null float64\n",
      "20    1519 non-null float64\n",
      "21    1519 non-null float64\n",
      "22    1519 non-null float64\n",
      "23    1519 non-null float64\n",
      "24    1519 non-null float64\n",
      "25    1519 non-null float64\n",
      "26    1519 non-null float64\n",
      "27    1519 non-null float64\n",
      "28    1519 non-null float64\n",
      "29    1519 non-null float64\n",
      "30    1519 non-null float64\n",
      "31    1519 non-null float64\n",
      "32    1519 non-null float64\n",
      "33    1519 non-null float64\n",
      "34    1519 non-null float64\n",
      "35    1519 non-null float64\n",
      "36    1519 non-null float64\n",
      "37    1519 non-null float64\n",
      "38    1519 non-null float64\n",
      "39    1519 non-null float64\n",
      "40    1519 non-null float64\n",
      "41    1519 non-null float64\n",
      "42    1519 non-null float64\n",
      "43    1519 non-null float64\n",
      "44    1519 non-null float64\n",
      "45    1519 non-null float64\n",
      "46    1519 non-null float64\n",
      "47    1519 non-null float64\n",
      "dtypes: float64(48)\n",
      "memory usage: 569.8 KB\n"
     ]
    }
   ],
   "source": [
    "dfX_test = pd.DataFrame(X_test)\n",
    "dfX_test.info()\n"
   ]
  },
  {
   "cell_type": "code",
   "execution_count": 47,
   "metadata": {},
   "outputs": [
    {
     "name": "stdout",
     "output_type": "stream",
     "text": [
      "<class 'pandas.core.frame.DataFrame'>\n",
      "RangeIndex: 3082 entries, 0 to 3081\n",
      "Data columns (total 1 columns):\n",
      "0    3082 non-null float64\n",
      "dtypes: float64(1)\n",
      "memory usage: 24.2 KB\n"
     ]
    }
   ],
   "source": [
    "dfy_train = pd.DataFrame(y_train)\n",
    "dfy_train.info()\n"
   ]
  },
  {
   "cell_type": "code",
   "execution_count": 48,
   "metadata": {},
   "outputs": [
    {
     "name": "stdout",
     "output_type": "stream",
     "text": [
      "<class 'pandas.core.frame.DataFrame'>\n",
      "RangeIndex: 1519 entries, 0 to 1518\n",
      "Data columns (total 1 columns):\n",
      "0    1519 non-null float64\n",
      "dtypes: float64(1)\n",
      "memory usage: 12.0 KB\n"
     ]
    }
   ],
   "source": [
    "dfy_test = pd.DataFrame(y_test)\n",
    "dfy_test.info()"
   ]
  },
  {
   "cell_type": "code",
   "execution_count": null,
   "metadata": {},
   "outputs": [],
   "source": []
  }
 ],
 "metadata": {
  "anaconda-cloud": {},
  "kernelspec": {
   "display_name": "Python 3 (ipykernel)",
   "language": "python",
   "name": "python3"
  },
  "language_info": {
   "codemirror_mode": {
    "name": "ipython",
    "version": 3
   },
   "file_extension": ".py",
   "mimetype": "text/x-python",
   "name": "python",
   "nbconvert_exporter": "python",
   "pygments_lexer": "ipython3",
   "version": "3.10.9"
  }
 },
 "nbformat": 4,
 "nbformat_minor": 1
}
